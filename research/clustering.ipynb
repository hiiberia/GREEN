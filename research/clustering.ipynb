{
 "cells": [
  {
   "cell_type": "code",
   "execution_count": 1,
   "id": "cdda0e84-8ac8-47d5-88da-dcb96f57babf",
   "metadata": {},
   "outputs": [],
   "source": [
    "import pandas as pd\n",
    "import numpy as np\n",
    "import json"
   ]
  },
  {
   "cell_type": "code",
   "execution_count": 2,
   "id": "58baa34c-8540-4f88-9542-ece287fce6a3",
   "metadata": {},
   "outputs": [],
   "source": [
    "# Obtener localización de las estaciones climáticas (de manera manual)\n",
    "\n",
    "meteo_geo = {\n",
    " 'raval': (41.37905211777974, 2.1691264537471917),\n",
    " 'zoo': (41.38634606263097, 2.187107267461244),\n",
    " 'universidad': (41.384359828410155, 2.1130145521940844),\n",
    " 'fabra': (41.41843755344923, 2.124212153968879)\n",
    "}\n",
    " "
   ]
  },
  {
   "cell_type": "code",
   "execution_count": 3,
   "id": "53b31bbb-91b1-484a-9c60-d8013344f960",
   "metadata": {},
   "outputs": [
    {
     "data": {
      "text/plain": [
       "Index(['Power_PdRR Gavà: C. del Progres, 54',\n",
       "       'Power_PdRR Sant Cugat del Vallès: Av. Via Augusta, 3',\n",
       "       'Power_PdRR Sant Joan Despi: C. TV3 - C. Jacint Verdaguer',\n",
       "       'Power_PdRR El Prat de Llobregat: Pl. Volateria (Mas Blau)',\n",
       "       'Power_PdRR Pallejà: Rda. Santa Eulalia - C. Joan Maragall',\n",
       "       'Power_PdRR Barberà del Vallés: C. Arquímedes, 8',\n",
       "       'Power_PdRR l'Hospitalet de Ll.: C. Salvador Espriu - Gran Via de les Corts Catalanes',\n",
       "       'Power_PdRL Sant Joan Despí: C. TV3 - C. Jacint Verdaguer',\n",
       "       'Power_PdRR Cornellà de Llobregat: Carrer de Baltasar Oriol i Mercer',\n",
       "       'Power_PdRR Badalona: C. Anna Tugas - Pg. Olof Palmer',\n",
       "       'Power_PdRL Pallejà: Rda. Santa Eulalia - C. Joan Maragall',\n",
       "       'Power_PdRL Badalona: C. Anna Tugas - Pg. Olof Palmer',\n",
       "       'Power_PdRR Montcada i Reixac: C. Tarragona - C. Pla de Matabous',\n",
       "       'Power_PdRL Cornellà de Llobregat: Carrer de Baltasar Oriol i Mercer',\n",
       "       'Power_PdRL Gavà: C. del Progres, 54',\n",
       "       'Power_PdRL Montcada i Reixac: C. Tarragona - C. Pla de Matabous',\n",
       "       'Power_PdRL L'Hospitalet de Ll.: C. Salvador Espriu - Gran Via de les Corts Catalanes',\n",
       "       'Power_PdRL Sant Cugat del Vallès: Av. Via Augusta, 3',\n",
       "       'Power_PdRL El Prat de Llobregat: Pl. Volateria (Mas Blau)',\n",
       "       'Power_PdRL Barberà del Vallés: C. Arquímedes, 8',\n",
       "       'Power_FLNR Sant Andreu da la Barca: Pg. Rafael de Casanova FGC'],\n",
       "      dtype='object')"
      ]
     },
     "execution_count": 3,
     "metadata": {},
     "output_type": "execute_result"
    }
   ],
   "source": [
    "# Localización de las estaciones de recarga\n",
    "\n",
    "stations = pd.read_csv('Bcn_1h.csv').drop(columns=['Time']).columns\n",
    "stations"
   ]
  },
  {
   "cell_type": "code",
   "execution_count": 4,
   "id": "43776b1e-c923-4ace-8ba0-e2e42b422334",
   "metadata": {},
   "outputs": [],
   "source": [
    "stations_geo = {\n",
    "    'PdRR Gavà: C. del Progres, 54': (41.29719617627185, 2.0083248201516257),\n",
    "    'PdRL Gavà: C. del Progres, 54': (41.29719617627185, 2.0083248201516257),\n",
    "    'PdRR Sant Cugat del Vallès: Av. Via Augusta, 3':(41.48261121211156, 2.050881606658509),\n",
    "    'PdRL Sant Cugat del Vallès: Av. Via Augusta, 3':(41.48261121211156, 2.050881606658509),\n",
    "    'PdRR Sant Joan Despi: C. TV3 - C. Jacint Verdaguer': (41.37338538891161, 2.067463050868586),\n",
    "    'PdRL Sant Joan Despi: C. TV3 - C. Jacint Verdaguer': (41.37338538891161, 2.067463050868586),\n",
    "    'PdRR El Prat de Llobregat: Pl. Volateria (Mas Blau)': (41.31814896571037, 2.0747945422344647),\n",
    "    'PdRL El Prat de Llobregat: Pl. Volateria (Mas Blau)': (41.31814896571037, 2.0747945422344647),\n",
    "    'PdRR Pallejà: Rda. Santa Eulalia - C. Joan Maragall': (41.419206531916096, 2.00109769756457),\n",
    "    'PdRL Pallejà: Rda. Santa Eulalia - C. Joan Maragall': (41.419206531916096, 2.00109769756457),\n",
    "    'PdRR Barberà del Vallés: C. Arquímedes, 8': (41.50817796499569, 2.135556218835491),\n",
    "    'PdRL Barberà del Vallés: C. Arquímedes, 8': (41.50817796499569, 2.135556218835491),\n",
    "    'PdRR lHospitalet de Ll.: C. Salvador Espriu - Gran Via de les Corts Catalanes': (41.35342544988061, 2.1227796497463336),\n",
    "    'PdRL lHospitalet de Ll.: C. Salvador Espriu - Gran Via de les Corts Catalanes': (41.35342544988061, 2.1227796497463336),\n",
    "    'PdRR Cornellà de Llobregat: Carrer de Baltasar Oriol i Mercer': (41.35292805498106, 2.088651866152902),\n",
    "    'PdRL Cornellà de Llobregat: Carrer de Baltasar Oriol i Mercer': (41.35292805498106, 2.088651866152902),\n",
    "    'PdRR Badalona: C. Anna Tugas - Pg. Olof Palmer': (41.45496432395331, 2.226703981591742),\n",
    "    'PdRL Badalona: C. Anna Tugas - Pg. Olof Palmer': (41.45496432395331, 2.226703981591742),\n",
    "    'PdRR Montcada i Reixac: C. Tarragona - C. Pla de Matabous': (41.49243590541234, 2.1851195179317005),\n",
    "    'PdRL Montcada i Reixac: C. Tarragona - C. Pla de Matabous': (41.49243590541234, 2.1851195179317005),\n",
    "    'FLNR Sant Andreu da la Barca: Pg. Rafael de Casanova FGC': (41.4466349117269, 1.9734438910275671)\n",
    "}"
   ]
  },
  {
   "cell_type": "code",
   "execution_count": 5,
   "id": "4aa0cc48-1f81-4a98-aa70-6dd60a3f76bd",
   "metadata": {},
   "outputs": [
    {
     "data": {
      "text/plain": [
       "21"
      ]
     },
     "execution_count": 5,
     "metadata": {},
     "output_type": "execute_result"
    }
   ],
   "source": [
    "len(stations_geo)"
   ]
  },
  {
   "cell_type": "code",
   "execution_count": 6,
   "id": "58a6a856-324d-4276-a247-a154f2d2801d",
   "metadata": {},
   "outputs": [],
   "source": [
    "def distance(geo1, geo2):\n",
    "    # Suponemos distancia euclidea en un plano\n",
    "    return np.sqrt((geo1[0]-geo2[0])**2 + (geo1[1]-geo2[1])**2)"
   ]
  },
  {
   "cell_type": "code",
   "execution_count": 7,
   "id": "41293b2a-f630-488e-98c3-1c16448bcb06",
   "metadata": {},
   "outputs": [],
   "source": [
    "geo_locs = {}\n",
    "\n",
    "for loc, coords in stations_geo.items():\n",
    "    min_dist = np.inf\n",
    "    for meteo, meteo_coords in meteo_geo.items():\n",
    "        dist = distance(coords, meteo_coords)\n",
    "        if (dist < min_dist):\n",
    "            min_dist = dist\n",
    "            closer_meteo = meteo\n",
    "            \n",
    "    geo_locs[loc] = closer_meteo"
   ]
  },
  {
   "cell_type": "code",
   "execution_count": 8,
   "id": "c348cd4e-8d98-4073-acfe-65edc765ce71",
   "metadata": {},
   "outputs": [],
   "source": [
    "json_obj = json.dumps(geo_locs, indent=True)\n",
    "json_file =  open(\"meteo_stat.json\", \"w\")\n",
    "json_file.write(json_obj)\n",
    "json_file.close()"
   ]
  },
  {
   "cell_type": "code",
   "execution_count": 9,
   "id": "d6f99115-42d4-4fc6-80a5-4de89f71b963",
   "metadata": {},
   "outputs": [],
   "source": [
    "json_obj = json.dumps(stations_geo, indent=True)\n",
    "json_file =  open(\"stat_geo.json\", \"w\")\n",
    "json_file.write(json_obj)\n",
    "json_file.close()\n",
    "\n",
    "json_obj = json.dumps(meteo_geo, indent=True)\n",
    "json_file =  open(\"meteo_geo.json\", \"w\")\n",
    "json_file.write(json_obj)\n",
    "json_file.close()"
   ]
  },
  {
   "cell_type": "code",
   "execution_count": null,
   "id": "06dc981a-3398-48c7-b4e4-857c39012c97",
   "metadata": {},
   "outputs": [],
   "source": []
  },
  {
   "cell_type": "code",
   "execution_count": null,
   "id": "b82abf64-0819-470e-ad27-b532fc17ca45",
   "metadata": {},
   "outputs": [],
   "source": []
  }
 ],
 "metadata": {
  "kernelspec": {
   "display_name": "Python 3 (ipykernel)",
   "language": "python",
   "name": "python3"
  },
  "language_info": {
   "codemirror_mode": {
    "name": "ipython",
    "version": 3
   },
   "file_extension": ".py",
   "mimetype": "text/x-python",
   "name": "python",
   "nbconvert_exporter": "python",
   "pygments_lexer": "ipython3",
   "version": "3.11.4"
  }
 },
 "nbformat": 4,
 "nbformat_minor": 5
}
